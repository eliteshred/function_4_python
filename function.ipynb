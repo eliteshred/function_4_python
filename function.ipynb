{
 "cells": [
  {
   "cell_type": "markdown",
   "metadata": {},
   "source": [
    "#### Create 3 function with proper executon cycle"
   ]
  },
  {
   "cell_type": "markdown",
   "metadata": {},
   "source": [
    "#### fuction of add,sub,mul,div"
   ]
  },
  {
   "cell_type": "code",
   "execution_count": 7,
   "metadata": {},
   "outputs": [
    {
     "name": "stdout",
     "output_type": "stream",
     "text": [
      "addditon of a,b and c\n",
      "a = 4,b = 6,c = 2\n",
      "4+6+2 = 12\n"
     ]
    }
   ],
   "source": [
    "def addition(a,b,c):\n",
    "    print(f'a = {a},b = {b},c = {c}')\n",
    "    print(f'{a}+{b}+{c} = {a+b+c}')\n",
    "\n",
    "print(f'addditon of a,b and c')\n",
    "addition(4,6,2)\n"
   ]
  },
  {
   "cell_type": "code",
   "execution_count": 8,
   "metadata": {},
   "outputs": [
    {
     "name": "stdout",
     "output_type": "stream",
     "text": [
      "sub of a and b\n",
      "a = 78, b = 41\n",
      "a - b = {37}\n"
     ]
    }
   ],
   "source": [
    "def sub(a,b):\n",
    "    print(f'a = {a}, b = {b}')\n",
    "    sub = {a-b}\n",
    "    print(f'a - b = {sub}')\n",
    "\n",
    "print(f'sub of a and b')\n",
    "sub(78,41)"
   ]
  },
  {
   "cell_type": "code",
   "execution_count": 9,
   "metadata": {},
   "outputs": [
    {
     "name": "stdout",
     "output_type": "stream",
     "text": [
      "a+b-c = {7}\n"
     ]
    }
   ],
   "source": [
    "def add_sub(a,b,c):\n",
    "    result = {a+b-c}\n",
    "    print(f'a+b-c = {result}')\n",
    "\n",
    "add_sub(5,4,2)\n",
    "          \n"
   ]
  },
  {
   "cell_type": "code",
   "execution_count": 16,
   "metadata": {},
   "outputs": [
    {
     "name": "stdout",
     "output_type": "stream",
     "text": [
      "multiplication of a,b and c\n",
      "a = 2,b = 3, c = 4\n",
      "2 * 3 * 4 = 24\n"
     ]
    }
   ],
   "source": [
    "def mul(a,b,c):\n",
    "    print(f'a = {a},b = {b}, c = {c}')\n",
    "    print(f'{a} * {b} * {c} = {a*b*c}')\n",
    "\n",
    "print(f'multiplication of a,b and c')\n",
    "mul(2,3,4)"
   ]
  },
  {
   "cell_type": "code",
   "execution_count": 11,
   "metadata": {},
   "outputs": [
    {
     "name": "stdout",
     "output_type": "stream",
     "text": [
      "Division of a and b\n",
      "a = 9, b = 3\n",
      "a/b = 3.0\n"
     ]
    }
   ],
   "source": [
    "def div(a,b):\n",
    "    print(f'a = {a}, b = {b}')\n",
    "    print(f'a/b = {a/b}')\n",
    "\n",
    "print(f'Division of a and b')\n",
    "div(9,3)"
   ]
  },
  {
   "cell_type": "markdown",
   "metadata": {},
   "source": [
    "#### comparison fuction of two number"
   ]
  },
  {
   "cell_type": "code",
   "execution_count": 12,
   "metadata": {},
   "outputs": [
    {
     "name": "stdout",
     "output_type": "stream",
     "text": [
      "comaprison of two numbers\n",
      "num1 = 80, num2 = 50\n",
      "if num1 is greater than num2 = {False}\n"
     ]
    }
   ],
   "source": [
    "def checkvalue(num1,num2):\n",
    "    print(f'num1 = {num1}, num2 = {num2}')\n",
    "    result = {num1 < num2}\n",
    "    print(f'if num1 is greater than num2 = {result}')\n",
    "\n",
    "print(f'comaprison of two numbers')\n",
    "checkvalue(80,50)"
   ]
  },
  {
   "cell_type": "markdown",
   "metadata": {},
   "source": [
    "#### Return fuction "
   ]
  },
  {
   "cell_type": "code",
   "execution_count": 26,
   "metadata": {},
   "outputs": [
    {
     "name": "stdout",
     "output_type": "stream",
     "text": [
      "a+b \n"
     ]
    },
    {
     "data": {
      "text/plain": [
       "9"
      ]
     },
     "execution_count": 26,
     "metadata": {},
     "output_type": "execute_result"
    }
   ],
   "source": [
    "def ret_add(a,b):\n",
    "    \n",
    "    \n",
    "    return a + b\n",
    "\n",
    "print(f'a + b') \n",
    "ret_add(4,5)\n",
    "\n"
   ]
  },
  {
   "cell_type": "code",
   "execution_count": 14,
   "metadata": {},
   "outputs": [
    {
     "name": "stdout",
     "output_type": "stream",
     "text": [
      "True\n"
     ]
    }
   ],
   "source": [
    "def checkprime(b):\n",
    "    return True\n",
    "\n",
    "print(checkprime(5))\n"
   ]
  },
  {
   "cell_type": "code",
   "execution_count": 15,
   "metadata": {},
   "outputs": [
    {
     "name": "stdout",
     "output_type": "stream",
     "text": [
      "true\n"
     ]
    }
   ],
   "source": [
    "def even(a):\n",
    "    if a % 2 == 0:\n",
    "        return 'true'\n",
    "    else:\n",
    "        return 'False'\n",
    "\n",
    "print(even(2))\n"
   ]
  }
 ],
 "metadata": {
  "kernelspec": {
   "display_name": "Python 3",
   "language": "python",
   "name": "python3"
  },
  "language_info": {
   "codemirror_mode": {
    "name": "ipython",
    "version": 3
   },
   "file_extension": ".py",
   "mimetype": "text/x-python",
   "name": "python",
   "nbconvert_exporter": "python",
   "pygments_lexer": "ipython3",
   "version": "3.12.4"
  }
 },
 "nbformat": 4,
 "nbformat_minor": 2
}
